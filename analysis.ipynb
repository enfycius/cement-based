{
 "cells": [
  {
   "cell_type": "code",
   "execution_count": 62,
   "metadata": {},
   "outputs": [
    {
     "name": "stdout",
     "output_type": "stream",
     "text": [
      "SyncData.xlsx  nohup.out\n"
     ]
    }
   ],
   "source": [
    "!ls"
   ]
  },
  {
   "cell_type": "code",
   "execution_count": 63,
   "metadata": {},
   "outputs": [],
   "source": [
    "import numpy\n",
    "import pandas as pd"
   ]
  },
  {
   "cell_type": "code",
   "execution_count": 64,
   "metadata": {},
   "outputs": [],
   "source": [
    "df = pd.read_excel(\"./SyncData.xlsx\")"
   ]
  },
  {
   "cell_type": "code",
   "execution_count": 65,
   "metadata": {},
   "outputs": [
    {
     "data": {
      "text/html": [
       "<div>\n",
       "<style scoped>\n",
       "    .dataframe tbody tr th:only-of-type {\n",
       "        vertical-align: middle;\n",
       "    }\n",
       "\n",
       "    .dataframe tbody tr th {\n",
       "        vertical-align: top;\n",
       "    }\n",
       "\n",
       "    .dataframe thead th {\n",
       "        text-align: right;\n",
       "    }\n",
       "</style>\n",
       "<table border=\"1\" class=\"dataframe\">\n",
       "  <thead>\n",
       "    <tr style=\"text-align: right;\">\n",
       "      <th></th>\n",
       "      <th>time_H</th>\n",
       "      <th>Load_H</th>\n",
       "      <th>Res_H</th>\n",
       "      <th>Unnamed: 3</th>\n",
       "      <th>time_V</th>\n",
       "      <th>Load_V</th>\n",
       "      <th>Res_V</th>\n",
       "      <th>Unnamed: 7</th>\n",
       "      <th>time_R</th>\n",
       "      <th>Load_R</th>\n",
       "      <th>Res_R</th>\n",
       "    </tr>\n",
       "  </thead>\n",
       "  <tbody>\n",
       "    <tr>\n",
       "      <th>0</th>\n",
       "      <td>0.000000</td>\n",
       "      <td>-50.492321</td>\n",
       "      <td>-29.348735</td>\n",
       "      <td>NaN</td>\n",
       "      <td>0.000000</td>\n",
       "      <td>-50.491787</td>\n",
       "      <td>-7.147780</td>\n",
       "      <td>NaN</td>\n",
       "      <td>0.000000</td>\n",
       "      <td>-50.492321</td>\n",
       "      <td>-18.590963</td>\n",
       "    </tr>\n",
       "    <tr>\n",
       "      <th>1</th>\n",
       "      <td>0.099999</td>\n",
       "      <td>-57.784882</td>\n",
       "      <td>-30.116238</td>\n",
       "      <td>NaN</td>\n",
       "      <td>0.099103</td>\n",
       "      <td>-57.416561</td>\n",
       "      <td>-7.211393</td>\n",
       "      <td>NaN</td>\n",
       "      <td>0.101004</td>\n",
       "      <td>-57.784882</td>\n",
       "      <td>-18.858859</td>\n",
       "    </tr>\n",
       "    <tr>\n",
       "      <th>2</th>\n",
       "      <td>0.199998</td>\n",
       "      <td>-65.520958</td>\n",
       "      <td>-30.642679</td>\n",
       "      <td>NaN</td>\n",
       "      <td>0.198207</td>\n",
       "      <td>-65.163918</td>\n",
       "      <td>-7.312418</td>\n",
       "      <td>NaN</td>\n",
       "      <td>0.202008</td>\n",
       "      <td>-65.520958</td>\n",
       "      <td>-19.064215</td>\n",
       "    </tr>\n",
       "    <tr>\n",
       "      <th>3</th>\n",
       "      <td>0.299998</td>\n",
       "      <td>-72.881187</td>\n",
       "      <td>-30.999211</td>\n",
       "      <td>NaN</td>\n",
       "      <td>0.297310</td>\n",
       "      <td>-72.527718</td>\n",
       "      <td>-7.399222</td>\n",
       "      <td>NaN</td>\n",
       "      <td>0.303012</td>\n",
       "      <td>-72.881187</td>\n",
       "      <td>-19.256227</td>\n",
       "    </tr>\n",
       "    <tr>\n",
       "      <th>4</th>\n",
       "      <td>0.399997</td>\n",
       "      <td>-79.665817</td>\n",
       "      <td>-31.263917</td>\n",
       "      <td>NaN</td>\n",
       "      <td>0.396413</td>\n",
       "      <td>-79.352386</td>\n",
       "      <td>-7.467273</td>\n",
       "      <td>NaN</td>\n",
       "      <td>0.404015</td>\n",
       "      <td>-79.665817</td>\n",
       "      <td>-19.407368</td>\n",
       "    </tr>\n",
       "    <tr>\n",
       "      <th>...</th>\n",
       "      <td>...</td>\n",
       "      <td>...</td>\n",
       "      <td>...</td>\n",
       "      <td>...</td>\n",
       "      <td>...</td>\n",
       "      <td>...</td>\n",
       "      <td>...</td>\n",
       "      <td>...</td>\n",
       "      <td>...</td>\n",
       "      <td>...</td>\n",
       "      <td>...</td>\n",
       "    </tr>\n",
       "    <tr>\n",
       "      <th>49994</th>\n",
       "      <td>NaN</td>\n",
       "      <td>NaN</td>\n",
       "      <td>NaN</td>\n",
       "      <td>NaN</td>\n",
       "      <td>NaN</td>\n",
       "      <td>NaN</td>\n",
       "      <td>NaN</td>\n",
       "      <td>NaN</td>\n",
       "      <td>5049.586555</td>\n",
       "      <td>-10.056506</td>\n",
       "      <td>-9.803270</td>\n",
       "    </tr>\n",
       "    <tr>\n",
       "      <th>49995</th>\n",
       "      <td>NaN</td>\n",
       "      <td>NaN</td>\n",
       "      <td>NaN</td>\n",
       "      <td>NaN</td>\n",
       "      <td>NaN</td>\n",
       "      <td>NaN</td>\n",
       "      <td>NaN</td>\n",
       "      <td>NaN</td>\n",
       "      <td>5049.687559</td>\n",
       "      <td>-15.210902</td>\n",
       "      <td>-10.015795</td>\n",
       "    </tr>\n",
       "    <tr>\n",
       "      <th>49996</th>\n",
       "      <td>NaN</td>\n",
       "      <td>NaN</td>\n",
       "      <td>NaN</td>\n",
       "      <td>NaN</td>\n",
       "      <td>NaN</td>\n",
       "      <td>NaN</td>\n",
       "      <td>NaN</td>\n",
       "      <td>NaN</td>\n",
       "      <td>5049.788562</td>\n",
       "      <td>-21.204048</td>\n",
       "      <td>-10.185714</td>\n",
       "    </tr>\n",
       "    <tr>\n",
       "      <th>49997</th>\n",
       "      <td>NaN</td>\n",
       "      <td>NaN</td>\n",
       "      <td>NaN</td>\n",
       "      <td>NaN</td>\n",
       "      <td>NaN</td>\n",
       "      <td>NaN</td>\n",
       "      <td>NaN</td>\n",
       "      <td>NaN</td>\n",
       "      <td>5049.889566</td>\n",
       "      <td>-27.932865</td>\n",
       "      <td>-10.322576</td>\n",
       "    </tr>\n",
       "    <tr>\n",
       "      <th>49998</th>\n",
       "      <td>NaN</td>\n",
       "      <td>NaN</td>\n",
       "      <td>NaN</td>\n",
       "      <td>NaN</td>\n",
       "      <td>NaN</td>\n",
       "      <td>NaN</td>\n",
       "      <td>NaN</td>\n",
       "      <td>NaN</td>\n",
       "      <td>5049.990570</td>\n",
       "      <td>-35.231949</td>\n",
       "      <td>-10.434076</td>\n",
       "    </tr>\n",
       "  </tbody>\n",
       "</table>\n",
       "<p>49999 rows × 11 columns</p>\n",
       "</div>"
      ],
      "text/plain": [
       "         time_H     Load_H      Res_H  Unnamed: 3    time_V     Load_V  \\\n",
       "0      0.000000 -50.492321 -29.348735         NaN  0.000000 -50.491787   \n",
       "1      0.099999 -57.784882 -30.116238         NaN  0.099103 -57.416561   \n",
       "2      0.199998 -65.520958 -30.642679         NaN  0.198207 -65.163918   \n",
       "3      0.299998 -72.881187 -30.999211         NaN  0.297310 -72.527718   \n",
       "4      0.399997 -79.665817 -31.263917         NaN  0.396413 -79.352386   \n",
       "...         ...        ...        ...         ...       ...        ...   \n",
       "49994       NaN        NaN        NaN         NaN       NaN        NaN   \n",
       "49995       NaN        NaN        NaN         NaN       NaN        NaN   \n",
       "49996       NaN        NaN        NaN         NaN       NaN        NaN   \n",
       "49997       NaN        NaN        NaN         NaN       NaN        NaN   \n",
       "49998       NaN        NaN        NaN         NaN       NaN        NaN   \n",
       "\n",
       "          Res_V  Unnamed: 7       time_R     Load_R      Res_R  \n",
       "0     -7.147780         NaN     0.000000 -50.492321 -18.590963  \n",
       "1     -7.211393         NaN     0.101004 -57.784882 -18.858859  \n",
       "2     -7.312418         NaN     0.202008 -65.520958 -19.064215  \n",
       "3     -7.399222         NaN     0.303012 -72.881187 -19.256227  \n",
       "4     -7.467273         NaN     0.404015 -79.665817 -19.407368  \n",
       "...         ...         ...          ...        ...        ...  \n",
       "49994       NaN         NaN  5049.586555 -10.056506  -9.803270  \n",
       "49995       NaN         NaN  5049.687559 -15.210902 -10.015795  \n",
       "49996       NaN         NaN  5049.788562 -21.204048 -10.185714  \n",
       "49997       NaN         NaN  5049.889566 -27.932865 -10.322576  \n",
       "49998       NaN         NaN  5049.990570 -35.231949 -10.434076  \n",
       "\n",
       "[49999 rows x 11 columns]"
      ]
     },
     "execution_count": 65,
     "metadata": {},
     "output_type": "execute_result"
    }
   ],
   "source": [
    "df"
   ]
  },
  {
   "cell_type": "code",
   "execution_count": 66,
   "metadata": {},
   "outputs": [],
   "source": [
    "X = pd.concat([df.loc[:][\"time_H\"], df.loc[:][\"Res_R\"]], axis=1)"
   ]
  },
  {
   "cell_type": "code",
   "execution_count": 67,
   "metadata": {},
   "outputs": [],
   "source": [
    "dataTrain = X[:39974]\n",
    "dataTest = X[39974:49967]"
   ]
  },
  {
   "cell_type": "code",
   "execution_count": 68,
   "metadata": {},
   "outputs": [
    {
     "data": {
      "text/html": [
       "<div>\n",
       "<style scoped>\n",
       "    .dataframe tbody tr th:only-of-type {\n",
       "        vertical-align: middle;\n",
       "    }\n",
       "\n",
       "    .dataframe tbody tr th {\n",
       "        vertical-align: top;\n",
       "    }\n",
       "\n",
       "    .dataframe thead th {\n",
       "        text-align: right;\n",
       "    }\n",
       "</style>\n",
       "<table border=\"1\" class=\"dataframe\">\n",
       "  <thead>\n",
       "    <tr style=\"text-align: right;\">\n",
       "      <th></th>\n",
       "      <th>time_H</th>\n",
       "      <th>Res_R</th>\n",
       "    </tr>\n",
       "  </thead>\n",
       "  <tbody>\n",
       "    <tr>\n",
       "      <th>0</th>\n",
       "      <td>0.000000</td>\n",
       "      <td>-18.590963</td>\n",
       "    </tr>\n",
       "    <tr>\n",
       "      <th>1</th>\n",
       "      <td>0.099999</td>\n",
       "      <td>-18.858859</td>\n",
       "    </tr>\n",
       "    <tr>\n",
       "      <th>2</th>\n",
       "      <td>0.199998</td>\n",
       "      <td>-19.064215</td>\n",
       "    </tr>\n",
       "    <tr>\n",
       "      <th>3</th>\n",
       "      <td>0.299998</td>\n",
       "      <td>-19.256227</td>\n",
       "    </tr>\n",
       "    <tr>\n",
       "      <th>4</th>\n",
       "      <td>0.399997</td>\n",
       "      <td>-19.407368</td>\n",
       "    </tr>\n",
       "    <tr>\n",
       "      <th>...</th>\n",
       "      <td>...</td>\n",
       "      <td>...</td>\n",
       "    </tr>\n",
       "    <tr>\n",
       "      <th>39969</th>\n",
       "      <td>3996.869506</td>\n",
       "      <td>-11.291845</td>\n",
       "    </tr>\n",
       "    <tr>\n",
       "      <th>39970</th>\n",
       "      <td>3996.969505</td>\n",
       "      <td>-11.278127</td>\n",
       "    </tr>\n",
       "    <tr>\n",
       "      <th>39971</th>\n",
       "      <td>3997.069505</td>\n",
       "      <td>-11.245393</td>\n",
       "    </tr>\n",
       "    <tr>\n",
       "      <th>39972</th>\n",
       "      <td>3997.169504</td>\n",
       "      <td>-11.203356</td>\n",
       "    </tr>\n",
       "    <tr>\n",
       "      <th>39973</th>\n",
       "      <td>3997.269503</td>\n",
       "      <td>-11.147275</td>\n",
       "    </tr>\n",
       "  </tbody>\n",
       "</table>\n",
       "<p>39974 rows × 2 columns</p>\n",
       "</div>"
      ],
      "text/plain": [
       "            time_H      Res_R\n",
       "0         0.000000 -18.590963\n",
       "1         0.099999 -18.858859\n",
       "2         0.199998 -19.064215\n",
       "3         0.299998 -19.256227\n",
       "4         0.399997 -19.407368\n",
       "...            ...        ...\n",
       "39969  3996.869506 -11.291845\n",
       "39970  3996.969505 -11.278127\n",
       "39971  3997.069505 -11.245393\n",
       "39972  3997.169504 -11.203356\n",
       "39973  3997.269503 -11.147275\n",
       "\n",
       "[39974 rows x 2 columns]"
      ]
     },
     "execution_count": 68,
     "metadata": {},
     "output_type": "execute_result"
    }
   ],
   "source": [
    "dataTrain"
   ]
  },
  {
   "cell_type": "code",
   "execution_count": 69,
   "metadata": {},
   "outputs": [
    {
     "data": {
      "text/html": [
       "<div>\n",
       "<style scoped>\n",
       "    .dataframe tbody tr th:only-of-type {\n",
       "        vertical-align: middle;\n",
       "    }\n",
       "\n",
       "    .dataframe tbody tr th {\n",
       "        vertical-align: top;\n",
       "    }\n",
       "\n",
       "    .dataframe thead th {\n",
       "        text-align: right;\n",
       "    }\n",
       "</style>\n",
       "<table border=\"1\" class=\"dataframe\">\n",
       "  <thead>\n",
       "    <tr style=\"text-align: right;\">\n",
       "      <th></th>\n",
       "      <th>time_H</th>\n",
       "      <th>Res_R</th>\n",
       "    </tr>\n",
       "  </thead>\n",
       "  <tbody>\n",
       "    <tr>\n",
       "      <th>39974</th>\n",
       "      <td>3997.369502</td>\n",
       "      <td>-11.079368</td>\n",
       "    </tr>\n",
       "    <tr>\n",
       "      <th>39975</th>\n",
       "      <td>3997.469501</td>\n",
       "      <td>-10.998246</td>\n",
       "    </tr>\n",
       "    <tr>\n",
       "      <th>39976</th>\n",
       "      <td>3997.569501</td>\n",
       "      <td>-10.914401</td>\n",
       "    </tr>\n",
       "    <tr>\n",
       "      <th>39977</th>\n",
       "      <td>3997.669500</td>\n",
       "      <td>-10.801342</td>\n",
       "    </tr>\n",
       "    <tr>\n",
       "      <th>39978</th>\n",
       "      <td>3997.769499</td>\n",
       "      <td>-10.667195</td>\n",
       "    </tr>\n",
       "    <tr>\n",
       "      <th>...</th>\n",
       "      <td>...</td>\n",
       "      <td>...</td>\n",
       "    </tr>\n",
       "    <tr>\n",
       "      <th>49962</th>\n",
       "      <td>4996.161882</td>\n",
       "      <td>-10.728813</td>\n",
       "    </tr>\n",
       "    <tr>\n",
       "      <th>49963</th>\n",
       "      <td>4996.261881</td>\n",
       "      <td>-10.788798</td>\n",
       "    </tr>\n",
       "    <tr>\n",
       "      <th>49964</th>\n",
       "      <td>4996.361880</td>\n",
       "      <td>-10.833265</td>\n",
       "    </tr>\n",
       "    <tr>\n",
       "      <th>49965</th>\n",
       "      <td>4996.461880</td>\n",
       "      <td>-10.865742</td>\n",
       "    </tr>\n",
       "    <tr>\n",
       "      <th>49966</th>\n",
       "      <td>4996.561879</td>\n",
       "      <td>-10.885664</td>\n",
       "    </tr>\n",
       "  </tbody>\n",
       "</table>\n",
       "<p>9993 rows × 2 columns</p>\n",
       "</div>"
      ],
      "text/plain": [
       "            time_H      Res_R\n",
       "39974  3997.369502 -11.079368\n",
       "39975  3997.469501 -10.998246\n",
       "39976  3997.569501 -10.914401\n",
       "39977  3997.669500 -10.801342\n",
       "39978  3997.769499 -10.667195\n",
       "...            ...        ...\n",
       "49962  4996.161882 -10.728813\n",
       "49963  4996.261881 -10.788798\n",
       "49964  4996.361880 -10.833265\n",
       "49965  4996.461880 -10.865742\n",
       "49966  4996.561879 -10.885664\n",
       "\n",
       "[9993 rows x 2 columns]"
      ]
     },
     "execution_count": 69,
     "metadata": {},
     "output_type": "execute_result"
    }
   ],
   "source": [
    "dataTest"
   ]
  },
  {
   "cell_type": "code",
   "execution_count": 70,
   "metadata": {},
   "outputs": [],
   "source": [
    "import matplotlib.pyplot as plt"
   ]
  },
  {
   "cell_type": "code",
   "execution_count": 71,
   "metadata": {},
   "outputs": [
    {
     "data": {
      "text/plain": [
       "0           0.000000\n",
       "1           0.099999\n",
       "2           0.199998\n",
       "3           0.299998\n",
       "4           0.399997\n",
       "            ...     \n",
       "39969    3996.869506\n",
       "39970    3996.969505\n",
       "39971    3997.069505\n",
       "39972    3997.169504\n",
       "39973    3997.269503\n",
       "Name: time_H, Length: 39974, dtype: float64"
      ]
     },
     "execution_count": 71,
     "metadata": {},
     "output_type": "execute_result"
    }
   ],
   "source": [
    "dataTrain.iloc[:, 0]"
   ]
  },
  {
   "cell_type": "code",
   "execution_count": 72,
   "metadata": {},
   "outputs": [
    {
     "data": {
      "text/plain": [
       "0       -18.590963\n",
       "1       -18.858859\n",
       "2       -19.064215\n",
       "3       -19.256227\n",
       "4       -19.407368\n",
       "           ...    \n",
       "39969   -11.291845\n",
       "39970   -11.278127\n",
       "39971   -11.245393\n",
       "39972   -11.203356\n",
       "39973   -11.147275\n",
       "Name: Res_R, Length: 39974, dtype: float64"
      ]
     },
     "execution_count": 72,
     "metadata": {},
     "output_type": "execute_result"
    }
   ],
   "source": [
    "dataTrain.iloc[:, 1]"
   ]
  },
  {
   "cell_type": "code",
   "execution_count": 73,
   "metadata": {},
   "outputs": [
    {
     "data": {
      "text/plain": [
       "[<matplotlib.lines.Line2D at 0x7f2e61678190>]"
      ]
     },
     "execution_count": 73,
     "metadata": {},
     "output_type": "execute_result"
    },
    {
     "data": {
      "image/png": "[encoded data removed]",
      "text/plain": [
       "<Figure size 640x480 with 1 Axes>"
      ]
     },
     "metadata": {},
     "output_type": "display_data"
    }
   ],
   "source": [
    "plt.plot(dataTrain.iloc[:, 0], dataTrain.iloc[:, 1])"
   ]
  },
  {
   "cell_type": "code",
   "execution_count": 74,
   "metadata": {},
   "outputs": [],
   "source": [
    "XTrain = dataTrain[:len(dataTrain) - 1]\n",
    "TTrain = dataTrain[1:len(dataTrain)]\n",
    "\n",
    "XTest = dataTest[:len(dataTest) - 1]\n",
    "TTest = dataTest[1:len(dataTest)]"
   ]
  },
  {
   "cell_type": "code",
   "execution_count": 75,
   "metadata": {},
   "outputs": [],
   "source": [
    "from sklearn.preprocessing import StandardScaler"
   ]
  },
  {
   "cell_type": "code",
   "execution_count": 76,
   "metadata": {},
   "outputs": [],
   "source": [
    "std = StandardScaler()"
   ]
  },
  {
   "cell_type": "code",
   "execution_count": 77,
   "metadata": {},
   "outputs": [],
   "source": [
    "std.fit(XTrain)\n",
    "XTrain_scaled = std.transform(XTrain)\n",
    "XTest_scaled = std.transform(XTest)\n",
    "\n",
    "std.fit(TTrain)\n",
    "TTrain_scaled = std.transform(TTrain)\n",
    "TTest_scaled = std.transform(TTest)"
   ]
  },
  {
   "cell_type": "code",
   "execution_count": 80,
   "metadata": {},
   "outputs": [
    {
     "data": {
      "text/plain": [
       "[<matplotlib.lines.Line2D at 0x7f2e625a49d0>]"
      ]
     },
     "execution_count": 80,
     "metadata": {},
     "output_type": "execute_result"
    },
    {
     "data": {
      "image/png": "[encoded data removed]",
      "text/plain": [
       "<Figure size 640x480 with 1 Axes>"
      ]
     },
     "metadata": {},
     "output_type": "display_data"
    }
   ],
   "source": [
    "plt.plot(XTrain_scaled[:, 0], XTrain_scaled[:, 1])"
   ]
  }
 ],
 "metadata": {
  "kernelspec": {
   "display_name": "PAPERS",
   "language": "python",
   "name": "papers"
  },
  "language_info": {
   "codemirror_mode": {
    "name": "ipython",
    "version": 3
   },
   "file_extension": ".py",
   "mimetype": "text/x-python",
   "name": "python",
   "nbconvert_exporter": "python",
   "pygments_lexer": "ipython3",
   "version": "3.8.17"
  },
  "orig_nbformat": 4
 },
 "nbformat": 4,
 "nbformat_minor": 2
}
