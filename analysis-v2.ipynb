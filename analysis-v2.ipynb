{
 "cells": [
  {
   "cell_type": "code",
   "execution_count": 1,
   "metadata": {},
   "outputs": [
    {
     "name": "stdout",
     "output_type": "stream",
     "text": [
      "'HC5F0-5000 2 0.xlsx'   analysis.ipynb\t evaluate.py   result.png\n",
      "'HC5F5-5000 2 0.xlsx'   back\t\t graph.png     result_outputs.png\n",
      " LICENSE\t        back2\t\t model.ipynb   result_real.png\n",
      " README.md\t        back3\t\t model.py      test.png\n",
      " analysis-v2.ipynb      back4\t\t nohup.out\n"
     ]
    }
   ],
   "source": [
    "!ls"
   ]
  },
  {
   "cell_type": "code",
   "execution_count": 2,
   "metadata": {},
   "outputs": [],
   "source": [
    "import numpy\n",
    "import pandas as pd"
   ]
  },
  {
   "cell_type": "code",
   "execution_count": 3,
   "metadata": {},
   "outputs": [],
   "source": [
    "df = pd.read_excel(\"./HC5F0-5000 2 0.xlsx\")"
   ]
  },
  {
   "cell_type": "code",
   "execution_count": 4,
   "metadata": {},
   "outputs": [
    {
     "data": {
      "text/html": [
       "<div>\n",
       "<style scoped>\n",
       "    .dataframe tbody tr th:only-of-type {\n",
       "        vertical-align: middle;\n",
       "    }\n",
       "\n",
       "    .dataframe tbody tr th {\n",
       "        vertical-align: top;\n",
       "    }\n",
       "\n",
       "    .dataframe thead th {\n",
       "        text-align: right;\n",
       "    }\n",
       "</style>\n",
       "<table border=\"1\" class=\"dataframe\">\n",
       "  <thead>\n",
       "    <tr style=\"text-align: right;\">\n",
       "      <th></th>\n",
       "      <th>주소</th>\n",
       "      <th>USB0::0x2A8D::0x0101::MY59020595::0::INSTR</th>\n",
       "      <th>Unnamed: 2</th>\n",
       "      <th>시간 (s)</th>\n",
       "      <th>Channel 1 (Ω)</th>\n",
       "    </tr>\n",
       "  </thead>\n",
       "  <tbody>\n",
       "    <tr>\n",
       "      <th>0</th>\n",
       "      <td>모델</td>\n",
       "      <td>34465A</td>\n",
       "      <td>NaN</td>\n",
       "      <td>2023-01-06 15:40:18.942</td>\n",
       "      <td>123.796072</td>\n",
       "    </tr>\n",
       "    <tr>\n",
       "      <th>1</th>\n",
       "      <td>일련 번호:</td>\n",
       "      <td>MY59020595</td>\n",
       "      <td>NaN</td>\n",
       "      <td>2023-01-06 15:40:19.060</td>\n",
       "      <td>123.797936</td>\n",
       "    </tr>\n",
       "    <tr>\n",
       "      <th>2</th>\n",
       "      <td>펌웨어 버전</td>\n",
       "      <td>A.03.01-03.15-03.01-00.52-05-02</td>\n",
       "      <td>NaN</td>\n",
       "      <td>2023-01-06 15:40:19.133</td>\n",
       "      <td>123.797965</td>\n",
       "    </tr>\n",
       "    <tr>\n",
       "      <th>3</th>\n",
       "      <td>시작 시간</td>\n",
       "      <td>2023-01-06 15:40:18.778000</td>\n",
       "      <td>NaN</td>\n",
       "      <td>2023-01-06 15:40:19.227</td>\n",
       "      <td>123.811127</td>\n",
       "    </tr>\n",
       "    <tr>\n",
       "      <th>4</th>\n",
       "      <td>중지 시간</td>\n",
       "      <td>2023-01-06 16:22:32.888000</td>\n",
       "      <td>NaN</td>\n",
       "      <td>2023-01-06 15:40:19.323</td>\n",
       "      <td>123.780029</td>\n",
       "    </tr>\n",
       "    <tr>\n",
       "      <th>...</th>\n",
       "      <td>...</td>\n",
       "      <td>...</td>\n",
       "      <td>...</td>\n",
       "      <td>...</td>\n",
       "      <td>...</td>\n",
       "    </tr>\n",
       "    <tr>\n",
       "      <th>26668</th>\n",
       "      <td>NaN</td>\n",
       "      <td>NaN</td>\n",
       "      <td>NaN</td>\n",
       "      <td>2023-01-06 16:22:32.230</td>\n",
       "      <td>125.867777</td>\n",
       "    </tr>\n",
       "    <tr>\n",
       "      <th>26669</th>\n",
       "      <td>NaN</td>\n",
       "      <td>NaN</td>\n",
       "      <td>NaN</td>\n",
       "      <td>2023-01-06 16:22:32.325</td>\n",
       "      <td>125.823431</td>\n",
       "    </tr>\n",
       "    <tr>\n",
       "      <th>26670</th>\n",
       "      <td>NaN</td>\n",
       "      <td>NaN</td>\n",
       "      <td>NaN</td>\n",
       "      <td>2023-01-06 16:22:32.420</td>\n",
       "      <td>125.842299</td>\n",
       "    </tr>\n",
       "    <tr>\n",
       "      <th>26671</th>\n",
       "      <td>NaN</td>\n",
       "      <td>NaN</td>\n",
       "      <td>NaN</td>\n",
       "      <td>2023-01-06 16:22:32.515</td>\n",
       "      <td>125.855547</td>\n",
       "    </tr>\n",
       "    <tr>\n",
       "      <th>26672</th>\n",
       "      <td>NaN</td>\n",
       "      <td>NaN</td>\n",
       "      <td>NaN</td>\n",
       "      <td>2023-01-06 16:22:32.610</td>\n",
       "      <td>125.829108</td>\n",
       "    </tr>\n",
       "  </tbody>\n",
       "</table>\n",
       "<p>26673 rows × 5 columns</p>\n",
       "</div>"
      ],
      "text/plain": [
       "           주소 USB0::0x2A8D::0x0101::MY59020595::0::INSTR  Unnamed: 2  \\\n",
       "0          모델                                     34465A         NaN   \n",
       "1      일련 번호:                                 MY59020595         NaN   \n",
       "2      펌웨어 버전            A.03.01-03.15-03.01-00.52-05-02         NaN   \n",
       "3       시작 시간                 2023-01-06 15:40:18.778000         NaN   \n",
       "4       중지 시간                 2023-01-06 16:22:32.888000         NaN   \n",
       "...       ...                                        ...         ...   \n",
       "26668     NaN                                        NaN         NaN   \n",
       "26669     NaN                                        NaN         NaN   \n",
       "26670     NaN                                        NaN         NaN   \n",
       "26671     NaN                                        NaN         NaN   \n",
       "26672     NaN                                        NaN         NaN   \n",
       "\n",
       "                       시간 (s)  Channel 1 (Ω)  \n",
       "0     2023-01-06 15:40:18.942     123.796072  \n",
       "1     2023-01-06 15:40:19.060     123.797936  \n",
       "2     2023-01-06 15:40:19.133     123.797965  \n",
       "3     2023-01-06 15:40:19.227     123.811127  \n",
       "4     2023-01-06 15:40:19.323     123.780029  \n",
       "...                       ...            ...  \n",
       "26668 2023-01-06 16:22:32.230     125.867777  \n",
       "26669 2023-01-06 16:22:32.325     125.823431  \n",
       "26670 2023-01-06 16:22:32.420     125.842299  \n",
       "26671 2023-01-06 16:22:32.515     125.855547  \n",
       "26672 2023-01-06 16:22:32.610     125.829108  \n",
       "\n",
       "[26673 rows x 5 columns]"
      ]
     },
     "execution_count": 4,
     "metadata": {},
     "output_type": "execute_result"
    }
   ],
   "source": [
    "df"
   ]
  },
  {
   "cell_type": "code",
   "execution_count": 7,
   "metadata": {},
   "outputs": [
    {
     "data": {
      "text/plain": [
       "'시간 (s)'"
      ]
     },
     "execution_count": 7,
     "metadata": {},
     "output_type": "execute_result"
    }
   ],
   "source": [
    "df.columns[-2:][0]"
   ]
  },
  {
   "cell_type": "code",
   "execution_count": 8,
   "metadata": {},
   "outputs": [
    {
     "data": {
      "text/plain": [
       "'Channel 1 (Ω)'"
      ]
     },
     "execution_count": 8,
     "metadata": {},
     "output_type": "execute_result"
    }
   ],
   "source": [
    "df.columns[-2:][1]"
   ]
  },
  {
   "cell_type": "code",
   "execution_count": 9,
   "metadata": {},
   "outputs": [],
   "source": [
    "X = pd.concat([df.loc[:][df.columns[-2:][0]], df.loc[:][df.columns[-2:][1]]], axis=1)"
   ]
  },
  {
   "cell_type": "code",
   "execution_count": 10,
   "metadata": {},
   "outputs": [
    {
     "data": {
      "text/html": [
       "<div>\n",
       "<style scoped>\n",
       "    .dataframe tbody tr th:only-of-type {\n",
       "        vertical-align: middle;\n",
       "    }\n",
       "\n",
       "    .dataframe tbody tr th {\n",
       "        vertical-align: top;\n",
       "    }\n",
       "\n",
       "    .dataframe thead th {\n",
       "        text-align: right;\n",
       "    }\n",
       "</style>\n",
       "<table border=\"1\" class=\"dataframe\">\n",
       "  <thead>\n",
       "    <tr style=\"text-align: right;\">\n",
       "      <th></th>\n",
       "      <th>시간 (s)</th>\n",
       "      <th>Channel 1 (Ω)</th>\n",
       "    </tr>\n",
       "  </thead>\n",
       "  <tbody>\n",
       "    <tr>\n",
       "      <th>0</th>\n",
       "      <td>2023-01-06 15:40:18.942</td>\n",
       "      <td>123.796072</td>\n",
       "    </tr>\n",
       "    <tr>\n",
       "      <th>1</th>\n",
       "      <td>2023-01-06 15:40:19.060</td>\n",
       "      <td>123.797936</td>\n",
       "    </tr>\n",
       "    <tr>\n",
       "      <th>2</th>\n",
       "      <td>2023-01-06 15:40:19.133</td>\n",
       "      <td>123.797965</td>\n",
       "    </tr>\n",
       "    <tr>\n",
       "      <th>3</th>\n",
       "      <td>2023-01-06 15:40:19.227</td>\n",
       "      <td>123.811127</td>\n",
       "    </tr>\n",
       "    <tr>\n",
       "      <th>4</th>\n",
       "      <td>2023-01-06 15:40:19.323</td>\n",
       "      <td>123.780029</td>\n",
       "    </tr>\n",
       "    <tr>\n",
       "      <th>...</th>\n",
       "      <td>...</td>\n",
       "      <td>...</td>\n",
       "    </tr>\n",
       "    <tr>\n",
       "      <th>26668</th>\n",
       "      <td>2023-01-06 16:22:32.230</td>\n",
       "      <td>125.867777</td>\n",
       "    </tr>\n",
       "    <tr>\n",
       "      <th>26669</th>\n",
       "      <td>2023-01-06 16:22:32.325</td>\n",
       "      <td>125.823431</td>\n",
       "    </tr>\n",
       "    <tr>\n",
       "      <th>26670</th>\n",
       "      <td>2023-01-06 16:22:32.420</td>\n",
       "      <td>125.842299</td>\n",
       "    </tr>\n",
       "    <tr>\n",
       "      <th>26671</th>\n",
       "      <td>2023-01-06 16:22:32.515</td>\n",
       "      <td>125.855547</td>\n",
       "    </tr>\n",
       "    <tr>\n",
       "      <th>26672</th>\n",
       "      <td>2023-01-06 16:22:32.610</td>\n",
       "      <td>125.829108</td>\n",
       "    </tr>\n",
       "  </tbody>\n",
       "</table>\n",
       "<p>26673 rows × 2 columns</p>\n",
       "</div>"
      ],
      "text/plain": [
       "                       시간 (s)  Channel 1 (Ω)\n",
       "0     2023-01-06 15:40:18.942     123.796072\n",
       "1     2023-01-06 15:40:19.060     123.797936\n",
       "2     2023-01-06 15:40:19.133     123.797965\n",
       "3     2023-01-06 15:40:19.227     123.811127\n",
       "4     2023-01-06 15:40:19.323     123.780029\n",
       "...                       ...            ...\n",
       "26668 2023-01-06 16:22:32.230     125.867777\n",
       "26669 2023-01-06 16:22:32.325     125.823431\n",
       "26670 2023-01-06 16:22:32.420     125.842299\n",
       "26671 2023-01-06 16:22:32.515     125.855547\n",
       "26672 2023-01-06 16:22:32.610     125.829108\n",
       "\n",
       "[26673 rows x 2 columns]"
      ]
     },
     "execution_count": 10,
     "metadata": {},
     "output_type": "execute_result"
    }
   ],
   "source": [
    "X"
   ]
  },
  {
   "cell_type": "code",
   "execution_count": 11,
   "metadata": {},
   "outputs": [],
   "source": [
    "dataTrain = X[:16681]\n",
    "dataTest = X[16681:]"
   ]
  },
  {
   "cell_type": "code",
   "execution_count": 12,
   "metadata": {},
   "outputs": [
    {
     "data": {
      "text/html": [
       "<div>\n",
       "<style scoped>\n",
       "    .dataframe tbody tr th:only-of-type {\n",
       "        vertical-align: middle;\n",
       "    }\n",
       "\n",
       "    .dataframe tbody tr th {\n",
       "        vertical-align: top;\n",
       "    }\n",
       "\n",
       "    .dataframe thead th {\n",
       "        text-align: right;\n",
       "    }\n",
       "</style>\n",
       "<table border=\"1\" class=\"dataframe\">\n",
       "  <thead>\n",
       "    <tr style=\"text-align: right;\">\n",
       "      <th></th>\n",
       "      <th>시간 (s)</th>\n",
       "      <th>Channel 1 (Ω)</th>\n",
       "    </tr>\n",
       "  </thead>\n",
       "  <tbody>\n",
       "    <tr>\n",
       "      <th>16681</th>\n",
       "      <td>2023-01-06 16:06:43.584</td>\n",
       "      <td>104.892079</td>\n",
       "    </tr>\n",
       "    <tr>\n",
       "      <th>16682</th>\n",
       "      <td>2023-01-06 16:06:43.678</td>\n",
       "      <td>110.447819</td>\n",
       "    </tr>\n",
       "    <tr>\n",
       "      <th>16683</th>\n",
       "      <td>2023-01-06 16:06:43.772</td>\n",
       "      <td>157.475649</td>\n",
       "    </tr>\n",
       "    <tr>\n",
       "      <th>16684</th>\n",
       "      <td>2023-01-06 16:06:43.867</td>\n",
       "      <td>203.578030</td>\n",
       "    </tr>\n",
       "    <tr>\n",
       "      <th>16685</th>\n",
       "      <td>2023-01-06 16:06:43.963</td>\n",
       "      <td>130.624437</td>\n",
       "    </tr>\n",
       "    <tr>\n",
       "      <th>...</th>\n",
       "      <td>...</td>\n",
       "      <td>...</td>\n",
       "    </tr>\n",
       "    <tr>\n",
       "      <th>26668</th>\n",
       "      <td>2023-01-06 16:22:32.230</td>\n",
       "      <td>125.867777</td>\n",
       "    </tr>\n",
       "    <tr>\n",
       "      <th>26669</th>\n",
       "      <td>2023-01-06 16:22:32.325</td>\n",
       "      <td>125.823431</td>\n",
       "    </tr>\n",
       "    <tr>\n",
       "      <th>26670</th>\n",
       "      <td>2023-01-06 16:22:32.420</td>\n",
       "      <td>125.842299</td>\n",
       "    </tr>\n",
       "    <tr>\n",
       "      <th>26671</th>\n",
       "      <td>2023-01-06 16:22:32.515</td>\n",
       "      <td>125.855547</td>\n",
       "    </tr>\n",
       "    <tr>\n",
       "      <th>26672</th>\n",
       "      <td>2023-01-06 16:22:32.610</td>\n",
       "      <td>125.829108</td>\n",
       "    </tr>\n",
       "  </tbody>\n",
       "</table>\n",
       "<p>9992 rows × 2 columns</p>\n",
       "</div>"
      ],
      "text/plain": [
       "                       시간 (s)  Channel 1 (Ω)\n",
       "16681 2023-01-06 16:06:43.584     104.892079\n",
       "16682 2023-01-06 16:06:43.678     110.447819\n",
       "16683 2023-01-06 16:06:43.772     157.475649\n",
       "16684 2023-01-06 16:06:43.867     203.578030\n",
       "16685 2023-01-06 16:06:43.963     130.624437\n",
       "...                       ...            ...\n",
       "26668 2023-01-06 16:22:32.230     125.867777\n",
       "26669 2023-01-06 16:22:32.325     125.823431\n",
       "26670 2023-01-06 16:22:32.420     125.842299\n",
       "26671 2023-01-06 16:22:32.515     125.855547\n",
       "26672 2023-01-06 16:22:32.610     125.829108\n",
       "\n",
       "[9992 rows x 2 columns]"
      ]
     },
     "execution_count": 12,
     "metadata": {},
     "output_type": "execute_result"
    }
   ],
   "source": [
    "dataTest"
   ]
  },
  {
   "cell_type": "code",
   "execution_count": 13,
   "metadata": {},
   "outputs": [
    {
     "data": {
      "text/html": [
       "<div>\n",
       "<style scoped>\n",
       "    .dataframe tbody tr th:only-of-type {\n",
       "        vertical-align: middle;\n",
       "    }\n",
       "\n",
       "    .dataframe tbody tr th {\n",
       "        vertical-align: top;\n",
       "    }\n",
       "\n",
       "    .dataframe thead th {\n",
       "        text-align: right;\n",
       "    }\n",
       "</style>\n",
       "<table border=\"1\" class=\"dataframe\">\n",
       "  <thead>\n",
       "    <tr style=\"text-align: right;\">\n",
       "      <th></th>\n",
       "      <th>시간 (s)</th>\n",
       "      <th>Channel 1 (Ω)</th>\n",
       "    </tr>\n",
       "  </thead>\n",
       "  <tbody>\n",
       "    <tr>\n",
       "      <th>0</th>\n",
       "      <td>2023-01-06 15:40:18.942</td>\n",
       "      <td>123.796072</td>\n",
       "    </tr>\n",
       "    <tr>\n",
       "      <th>1</th>\n",
       "      <td>2023-01-06 15:40:19.060</td>\n",
       "      <td>123.797936</td>\n",
       "    </tr>\n",
       "    <tr>\n",
       "      <th>2</th>\n",
       "      <td>2023-01-06 15:40:19.133</td>\n",
       "      <td>123.797965</td>\n",
       "    </tr>\n",
       "    <tr>\n",
       "      <th>3</th>\n",
       "      <td>2023-01-06 15:40:19.227</td>\n",
       "      <td>123.811127</td>\n",
       "    </tr>\n",
       "    <tr>\n",
       "      <th>4</th>\n",
       "      <td>2023-01-06 15:40:19.323</td>\n",
       "      <td>123.780029</td>\n",
       "    </tr>\n",
       "    <tr>\n",
       "      <th>...</th>\n",
       "      <td>...</td>\n",
       "      <td>...</td>\n",
       "    </tr>\n",
       "    <tr>\n",
       "      <th>16676</th>\n",
       "      <td>2023-01-06 16:06:43.154</td>\n",
       "      <td>107.041178</td>\n",
       "    </tr>\n",
       "    <tr>\n",
       "      <th>16677</th>\n",
       "      <td>2023-01-06 16:06:43.252</td>\n",
       "      <td>116.595030</td>\n",
       "    </tr>\n",
       "    <tr>\n",
       "      <th>16678</th>\n",
       "      <td>2023-01-06 16:06:43.298</td>\n",
       "      <td>176.148507</td>\n",
       "    </tr>\n",
       "    <tr>\n",
       "      <th>16679</th>\n",
       "      <td>2023-01-06 16:06:43.393</td>\n",
       "      <td>199.875173</td>\n",
       "    </tr>\n",
       "    <tr>\n",
       "      <th>16680</th>\n",
       "      <td>2023-01-06 16:06:43.488</td>\n",
       "      <td>119.613966</td>\n",
       "    </tr>\n",
       "  </tbody>\n",
       "</table>\n",
       "<p>16681 rows × 2 columns</p>\n",
       "</div>"
      ],
      "text/plain": [
       "                       시간 (s)  Channel 1 (Ω)\n",
       "0     2023-01-06 15:40:18.942     123.796072\n",
       "1     2023-01-06 15:40:19.060     123.797936\n",
       "2     2023-01-06 15:40:19.133     123.797965\n",
       "3     2023-01-06 15:40:19.227     123.811127\n",
       "4     2023-01-06 15:40:19.323     123.780029\n",
       "...                       ...            ...\n",
       "16676 2023-01-06 16:06:43.154     107.041178\n",
       "16677 2023-01-06 16:06:43.252     116.595030\n",
       "16678 2023-01-06 16:06:43.298     176.148507\n",
       "16679 2023-01-06 16:06:43.393     199.875173\n",
       "16680 2023-01-06 16:06:43.488     119.613966\n",
       "\n",
       "[16681 rows x 2 columns]"
      ]
     },
     "execution_count": 13,
     "metadata": {},
     "output_type": "execute_result"
    }
   ],
   "source": [
    "dataTrain"
   ]
  },
  {
   "cell_type": "code",
   "execution_count": 14,
   "metadata": {},
   "outputs": [
    {
     "data": {
      "text/html": [
       "<div>\n",
       "<style scoped>\n",
       "    .dataframe tbody tr th:only-of-type {\n",
       "        vertical-align: middle;\n",
       "    }\n",
       "\n",
       "    .dataframe tbody tr th {\n",
       "        vertical-align: top;\n",
       "    }\n",
       "\n",
       "    .dataframe thead th {\n",
       "        text-align: right;\n",
       "    }\n",
       "</style>\n",
       "<table border=\"1\" class=\"dataframe\">\n",
       "  <thead>\n",
       "    <tr style=\"text-align: right;\">\n",
       "      <th></th>\n",
       "      <th>시간 (s)</th>\n",
       "      <th>Channel 1 (Ω)</th>\n",
       "    </tr>\n",
       "  </thead>\n",
       "  <tbody>\n",
       "    <tr>\n",
       "      <th>16681</th>\n",
       "      <td>2023-01-06 16:06:43.584</td>\n",
       "      <td>104.892079</td>\n",
       "    </tr>\n",
       "    <tr>\n",
       "      <th>16682</th>\n",
       "      <td>2023-01-06 16:06:43.678</td>\n",
       "      <td>110.447819</td>\n",
       "    </tr>\n",
       "    <tr>\n",
       "      <th>16683</th>\n",
       "      <td>2023-01-06 16:06:43.772</td>\n",
       "      <td>157.475649</td>\n",
       "    </tr>\n",
       "    <tr>\n",
       "      <th>16684</th>\n",
       "      <td>2023-01-06 16:06:43.867</td>\n",
       "      <td>203.578030</td>\n",
       "    </tr>\n",
       "    <tr>\n",
       "      <th>16685</th>\n",
       "      <td>2023-01-06 16:06:43.963</td>\n",
       "      <td>130.624437</td>\n",
       "    </tr>\n",
       "    <tr>\n",
       "      <th>...</th>\n",
       "      <td>...</td>\n",
       "      <td>...</td>\n",
       "    </tr>\n",
       "    <tr>\n",
       "      <th>26668</th>\n",
       "      <td>2023-01-06 16:22:32.230</td>\n",
       "      <td>125.867777</td>\n",
       "    </tr>\n",
       "    <tr>\n",
       "      <th>26669</th>\n",
       "      <td>2023-01-06 16:22:32.325</td>\n",
       "      <td>125.823431</td>\n",
       "    </tr>\n",
       "    <tr>\n",
       "      <th>26670</th>\n",
       "      <td>2023-01-06 16:22:32.420</td>\n",
       "      <td>125.842299</td>\n",
       "    </tr>\n",
       "    <tr>\n",
       "      <th>26671</th>\n",
       "      <td>2023-01-06 16:22:32.515</td>\n",
       "      <td>125.855547</td>\n",
       "    </tr>\n",
       "    <tr>\n",
       "      <th>26672</th>\n",
       "      <td>2023-01-06 16:22:32.610</td>\n",
       "      <td>125.829108</td>\n",
       "    </tr>\n",
       "  </tbody>\n",
       "</table>\n",
       "<p>9992 rows × 2 columns</p>\n",
       "</div>"
      ],
      "text/plain": [
       "                       시간 (s)  Channel 1 (Ω)\n",
       "16681 2023-01-06 16:06:43.584     104.892079\n",
       "16682 2023-01-06 16:06:43.678     110.447819\n",
       "16683 2023-01-06 16:06:43.772     157.475649\n",
       "16684 2023-01-06 16:06:43.867     203.578030\n",
       "16685 2023-01-06 16:06:43.963     130.624437\n",
       "...                       ...            ...\n",
       "26668 2023-01-06 16:22:32.230     125.867777\n",
       "26669 2023-01-06 16:22:32.325     125.823431\n",
       "26670 2023-01-06 16:22:32.420     125.842299\n",
       "26671 2023-01-06 16:22:32.515     125.855547\n",
       "26672 2023-01-06 16:22:32.610     125.829108\n",
       "\n",
       "[9992 rows x 2 columns]"
      ]
     },
     "execution_count": 14,
     "metadata": {},
     "output_type": "execute_result"
    }
   ],
   "source": [
    "dataTest"
   ]
  },
  {
   "cell_type": "code",
   "execution_count": 15,
   "metadata": {},
   "outputs": [],
   "source": [
    "import matplotlib.pyplot as plt"
   ]
  },
  {
   "cell_type": "code",
   "execution_count": 27,
   "metadata": {},
   "outputs": [
    {
     "data": {
      "text/html": [
       "<div>\n",
       "<style scoped>\n",
       "    .dataframe tbody tr th:only-of-type {\n",
       "        vertical-align: middle;\n",
       "    }\n",
       "\n",
       "    .dataframe tbody tr th {\n",
       "        vertical-align: top;\n",
       "    }\n",
       "\n",
       "    .dataframe thead th {\n",
       "        text-align: right;\n",
       "    }\n",
       "</style>\n",
       "<table border=\"1\" class=\"dataframe\">\n",
       "  <thead>\n",
       "    <tr style=\"text-align: right;\">\n",
       "      <th></th>\n",
       "      <th>시간 (s)</th>\n",
       "      <th>Channel 1 (Ω)</th>\n",
       "    </tr>\n",
       "  </thead>\n",
       "  <tbody>\n",
       "    <tr>\n",
       "      <th>0</th>\n",
       "      <td>2023-01-06 15:40:18.942</td>\n",
       "      <td>123.796072</td>\n",
       "    </tr>\n",
       "    <tr>\n",
       "      <th>1</th>\n",
       "      <td>2023-01-06 15:40:19.060</td>\n",
       "      <td>123.797936</td>\n",
       "    </tr>\n",
       "    <tr>\n",
       "      <th>2</th>\n",
       "      <td>2023-01-06 15:40:19.133</td>\n",
       "      <td>123.797965</td>\n",
       "    </tr>\n",
       "    <tr>\n",
       "      <th>3</th>\n",
       "      <td>2023-01-06 15:40:19.227</td>\n",
       "      <td>123.811127</td>\n",
       "    </tr>\n",
       "    <tr>\n",
       "      <th>4</th>\n",
       "      <td>2023-01-06 15:40:19.323</td>\n",
       "      <td>123.780029</td>\n",
       "    </tr>\n",
       "    <tr>\n",
       "      <th>...</th>\n",
       "      <td>...</td>\n",
       "      <td>...</td>\n",
       "    </tr>\n",
       "    <tr>\n",
       "      <th>16676</th>\n",
       "      <td>2023-01-06 16:06:43.154</td>\n",
       "      <td>107.041178</td>\n",
       "    </tr>\n",
       "    <tr>\n",
       "      <th>16677</th>\n",
       "      <td>2023-01-06 16:06:43.252</td>\n",
       "      <td>116.595030</td>\n",
       "    </tr>\n",
       "    <tr>\n",
       "      <th>16678</th>\n",
       "      <td>2023-01-06 16:06:43.298</td>\n",
       "      <td>176.148507</td>\n",
       "    </tr>\n",
       "    <tr>\n",
       "      <th>16679</th>\n",
       "      <td>2023-01-06 16:06:43.393</td>\n",
       "      <td>199.875173</td>\n",
       "    </tr>\n",
       "    <tr>\n",
       "      <th>16680</th>\n",
       "      <td>2023-01-06 16:06:43.488</td>\n",
       "      <td>119.613966</td>\n",
       "    </tr>\n",
       "  </tbody>\n",
       "</table>\n",
       "<p>16681 rows × 2 columns</p>\n",
       "</div>"
      ],
      "text/plain": [
       "                       시간 (s)  Channel 1 (Ω)\n",
       "0     2023-01-06 15:40:18.942     123.796072\n",
       "1     2023-01-06 15:40:19.060     123.797936\n",
       "2     2023-01-06 15:40:19.133     123.797965\n",
       "3     2023-01-06 15:40:19.227     123.811127\n",
       "4     2023-01-06 15:40:19.323     123.780029\n",
       "...                       ...            ...\n",
       "16676 2023-01-06 16:06:43.154     107.041178\n",
       "16677 2023-01-06 16:06:43.252     116.595030\n",
       "16678 2023-01-06 16:06:43.298     176.148507\n",
       "16679 2023-01-06 16:06:43.393     199.875173\n",
       "16680 2023-01-06 16:06:43.488     119.613966\n",
       "\n",
       "[16681 rows x 2 columns]"
      ]
     },
     "execution_count": 27,
     "metadata": {},
     "output_type": "execute_result"
    }
   ],
   "source": [
    "dataTrain"
   ]
  },
  {
   "cell_type": "code",
   "execution_count": 36,
   "metadata": {},
   "outputs": [
    {
     "data": {
      "text/plain": [
       "0            0.0\n",
       "1            1.0\n",
       "2            2.0\n",
       "3            3.0\n",
       "4            4.0\n",
       "          ...   \n",
       "16676    16676.0\n",
       "16677    16677.0\n",
       "16678    16678.0\n",
       "16679    16679.0\n",
       "16680    16680.0\n",
       "Name: 시간 (s), Length: 16681, dtype: float64"
      ]
     },
     "execution_count": 36,
     "metadata": {},
     "output_type": "execute_result"
    }
   ],
   "source": [
    "dataTrain.iloc[:, 0] = dataTrain.iloc[:, 0].index.values\n",
    "dataTrain.iloc[:, 0].astype('float64')"
   ]
  },
  {
   "cell_type": "code",
   "execution_count": 44,
   "metadata": {},
   "outputs": [
    {
     "data": {
      "text/plain": [
       "16681    16681.0\n",
       "16682    16682.0\n",
       "16683    16683.0\n",
       "16684    16684.0\n",
       "16685    16685.0\n",
       "          ...   \n",
       "26668    26668.0\n",
       "26669    26669.0\n",
       "26670    26670.0\n",
       "26671    26671.0\n",
       "26672    26672.0\n",
       "Name: 시간 (s), Length: 9992, dtype: float64"
      ]
     },
     "execution_count": 44,
     "metadata": {},
     "output_type": "execute_result"
    }
   ],
   "source": [
    "dataTest.iloc[:, 0] = dataTest.iloc[:, 0].index.values\n",
    "dataTest.iloc[:, 0].astype('float64')"
   ]
  },
  {
   "cell_type": "code",
   "execution_count": 45,
   "metadata": {},
   "outputs": [
    {
     "data": {
      "text/plain": [
       "0        123.796072\n",
       "1        123.797936\n",
       "2        123.797965\n",
       "3        123.811127\n",
       "4        123.780029\n",
       "            ...    \n",
       "16676    107.041178\n",
       "16677    116.595030\n",
       "16678    176.148507\n",
       "16679    199.875173\n",
       "16680    119.613966\n",
       "Name: Channel 1 (Ω), Length: 16681, dtype: float64"
      ]
     },
     "execution_count": 45,
     "metadata": {},
     "output_type": "execute_result"
    }
   ],
   "source": [
    "dataTrain.iloc[:, 1]"
   ]
  },
  {
   "cell_type": "code",
   "execution_count": 46,
   "metadata": {},
   "outputs": [
    {
     "data": {
      "text/plain": [
       "[<matplotlib.lines.Line2D at 0x7f0fe05a5220>]"
      ]
     },
     "execution_count": 46,
     "metadata": {},
     "output_type": "execute_result"
    },
    {
     "data": {
      "image/png": "[encoded data removed]",
      "text/plain": [
       "<Figure size 640x480 with 1 Axes>"
      ]
     },
     "metadata": {},
     "output_type": "display_data"
    }
   ],
   "source": [
    "plt.plot(dataTrain.iloc[:, 0], dataTrain.iloc[:, 1])"
   ]
  },
  {
   "cell_type": "code",
   "execution_count": 47,
   "metadata": {},
   "outputs": [],
   "source": [
    "XTrain = dataTrain[:len(dataTrain) - 1]\n",
    "TTrain = dataTrain[1:len(dataTrain)]\n",
    "\n",
    "XTest = dataTest[:len(dataTest) - 1]\n",
    "TTest = dataTest[1:len(dataTest)]"
   ]
  },
  {
   "cell_type": "code",
   "execution_count": 48,
   "metadata": {},
   "outputs": [],
   "source": [
    "from sklearn.preprocessing import StandardScaler"
   ]
  },
  {
   "cell_type": "code",
   "execution_count": 49,
   "metadata": {},
   "outputs": [],
   "source": [
    "std = StandardScaler()"
   ]
  },
  {
   "cell_type": "code",
   "execution_count": 50,
   "metadata": {},
   "outputs": [
    {
     "data": {
      "text/html": [
       "<div>\n",
       "<style scoped>\n",
       "    .dataframe tbody tr th:only-of-type {\n",
       "        vertical-align: middle;\n",
       "    }\n",
       "\n",
       "    .dataframe tbody tr th {\n",
       "        vertical-align: top;\n",
       "    }\n",
       "\n",
       "    .dataframe thead th {\n",
       "        text-align: right;\n",
       "    }\n",
       "</style>\n",
       "<table border=\"1\" class=\"dataframe\">\n",
       "  <thead>\n",
       "    <tr style=\"text-align: right;\">\n",
       "      <th></th>\n",
       "      <th>시간 (s)</th>\n",
       "      <th>Channel 1 (Ω)</th>\n",
       "    </tr>\n",
       "  </thead>\n",
       "  <tbody>\n",
       "    <tr>\n",
       "      <th>0</th>\n",
       "      <td>0</td>\n",
       "      <td>123.796072</td>\n",
       "    </tr>\n",
       "    <tr>\n",
       "      <th>1</th>\n",
       "      <td>1</td>\n",
       "      <td>123.797936</td>\n",
       "    </tr>\n",
       "    <tr>\n",
       "      <th>2</th>\n",
       "      <td>2</td>\n",
       "      <td>123.797965</td>\n",
       "    </tr>\n",
       "    <tr>\n",
       "      <th>3</th>\n",
       "      <td>3</td>\n",
       "      <td>123.811127</td>\n",
       "    </tr>\n",
       "    <tr>\n",
       "      <th>4</th>\n",
       "      <td>4</td>\n",
       "      <td>123.780029</td>\n",
       "    </tr>\n",
       "    <tr>\n",
       "      <th>...</th>\n",
       "      <td>...</td>\n",
       "      <td>...</td>\n",
       "    </tr>\n",
       "    <tr>\n",
       "      <th>16675</th>\n",
       "      <td>16675</td>\n",
       "      <td>106.495889</td>\n",
       "    </tr>\n",
       "    <tr>\n",
       "      <th>16676</th>\n",
       "      <td>16676</td>\n",
       "      <td>107.041178</td>\n",
       "    </tr>\n",
       "    <tr>\n",
       "      <th>16677</th>\n",
       "      <td>16677</td>\n",
       "      <td>116.595030</td>\n",
       "    </tr>\n",
       "    <tr>\n",
       "      <th>16678</th>\n",
       "      <td>16678</td>\n",
       "      <td>176.148507</td>\n",
       "    </tr>\n",
       "    <tr>\n",
       "      <th>16679</th>\n",
       "      <td>16679</td>\n",
       "      <td>199.875173</td>\n",
       "    </tr>\n",
       "  </tbody>\n",
       "</table>\n",
       "<p>16680 rows × 2 columns</p>\n",
       "</div>"
      ],
      "text/plain": [
       "       시간 (s)  Channel 1 (Ω)\n",
       "0           0     123.796072\n",
       "1           1     123.797936\n",
       "2           2     123.797965\n",
       "3           3     123.811127\n",
       "4           4     123.780029\n",
       "...       ...            ...\n",
       "16675   16675     106.495889\n",
       "16676   16676     107.041178\n",
       "16677   16677     116.595030\n",
       "16678   16678     176.148507\n",
       "16679   16679     199.875173\n",
       "\n",
       "[16680 rows x 2 columns]"
      ]
     },
     "execution_count": 50,
     "metadata": {},
     "output_type": "execute_result"
    }
   ],
   "source": [
    "XTrain"
   ]
  },
  {
   "cell_type": "code",
   "execution_count": 51,
   "metadata": {},
   "outputs": [],
   "source": [
    "std.fit(XTrain)\n",
    "XTrain_scaled = std.transform(XTrain)\n",
    "XTest_scaled = std.transform(XTest)\n",
    "\n",
    "std.fit(TTrain)\n",
    "TTrain_scaled = std.transform(TTrain)\n",
    "TTest_scaled = std.transform(TTest)"
   ]
  },
  {
   "cell_type": "code",
   "execution_count": 52,
   "metadata": {},
   "outputs": [
    {
     "data": {
      "text/plain": [
       "[<matplotlib.lines.Line2D at 0x7f0fe058c8b0>]"
      ]
     },
     "execution_count": 52,
     "metadata": {},
     "output_type": "execute_result"
    },
    {
     "data": {
      "image/png": "[encoded data removed]",
      "text/plain": [
       "<Figure size 640x480 with 1 Axes>"
      ]
     },
     "metadata": {},
     "output_type": "display_data"
    }
   ],
   "source": [
    "plt.plot(XTrain_scaled[:, 0], XTrain_scaled[:, 1])"
   ]
  },
  {
   "cell_type": "code",
   "execution_count": 53,
   "metadata": {},
   "outputs": [],
   "source": [
    "XTrain_prev = pd.Series(XTrain_scaled[:, 1])\n",
    "XTest_prev = pd.Series(XTest_scaled[:, 1], index=[i for i in range(len(XTrain_scaled), len(XTrain_scaled) + len(XTest_scaled))])"
   ]
  }
 ],
 "metadata": {
  "kernelspec": {
   "display_name": "papers",
   "language": "python",
   "name": "python3"
  },
  "language_info": {
   "codemirror_mode": {
    "name": "ipython",
    "version": 3
   },
   "file_extension": ".py",
   "mimetype": "text/x-python",
   "name": "python",
   "nbconvert_exporter": "python",
   "pygments_lexer": "ipython3",
   "version": "3.8.17"
  },
  "orig_nbformat": 4
 },
 "nbformat": 4,
 "nbformat_minor": 2
}
